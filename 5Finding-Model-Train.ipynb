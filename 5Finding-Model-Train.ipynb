{
 "cells": [
  {
   "cell_type": "code",
   "execution_count": 1,
   "id": "b6d4e221",
   "metadata": {},
   "outputs": [],
   "source": [
    "# In[1]: Import Required Libraries\n",
    "import pandas as pd\n",
    "import os\n",
    "import torch\n",
    "from torch.utils.data import Dataset, DataLoader\n",
    "from torchvision import transforms, models\n",
    "from PIL import Image\n",
    "import matplotlib.pyplot as plt\n",
    "from sklearn.metrics import r2_score\n",
    "import numpy as np\n",
    "import torch.nn as nn\n",
    "import torch.optim as optim\n",
    "# In[2]: Load and Split Dataset\n",
    "import pandas as pd\n",
    "from sklearn.model_selection import train_test_split"
   ]
  },
  {
   "cell_type": "code",
   "execution_count": null,
   "id": "74d6d363",
   "metadata": {},
   "outputs": [
    {
     "name": "stdout",
     "output_type": "stream",
     "text": [
      "Filtered Class Distribution:\n",
      "Finding Labels\n",
      "No Finding                                               5128\n",
      "Infiltration                                             3004\n",
      "Nodule                                                   2886\n",
      "Pneumothorax                                             2838\n",
      "Atelectasis                                              2397\n",
      "Effusion                                                 2320\n",
      "Effusion|Infiltration                                    1519\n",
      "Atelectasis|Effusion                                     1473\n",
      "Atelectasis|Infiltration                                 1225\n",
      "Infiltration|Nodule                                      1159\n",
      "Atelectasis|Effusion|Infiltration                        1106\n",
      "Effusion|Pneumothorax                                     751\n",
      "Infiltration|Pneumothorax                                 608\n",
      "Atelectasis|Pneumothorax                                  538\n",
      "Effusion|Nodule                                           527\n",
      "Atelectasis|Nodule                                        336\n",
      "Nodule|Pneumothorax                                       319\n",
      "Effusion|Infiltration|Nodule                              299\n",
      "Atelectasis|Effusion|Pneumothorax                         238\n",
      "Effusion|Infiltration|Pneumothorax                        213\n",
      "Atelectasis|Infiltration|Pneumothorax                     195\n",
      "Atelectasis|Effusion|Nodule                               168\n",
      "Atelectasis|Effusion|Infiltration|Pneumothorax            149\n",
      "Atelectasis|Infiltration|Nodule                           126\n",
      "Atelectasis|Effusion|Infiltration|Nodule                  114\n",
      "Infiltration|Nodule|Pneumothorax                          105\n",
      "Effusion|Nodule|Pneumothorax                               76\n",
      "Atelectasis|Infiltration|Nodule|Pneumothorax               48\n",
      "Effusion|Infiltration|Nodule|Pneumothorax                  44\n",
      "Atelectasis|Nodule|Pneumothorax                            31\n",
      "Atelectasis|Effusion|Infiltration|Nodule|Pneumothorax      22\n",
      "Atelectasis|Effusion|Nodule|Pneumothorax                   19\n",
      "Name: count, dtype: int64\n",
      "Train size: 20986, Validation size: 4497, Test size: 4498\n"
     ]
    }
   ],
   "source": [
    "# In[2]: Load Dataset\n",
    "import pandas as pd\n",
    "from sklearn.model_selection import train_test_split\n",
    "\n",
    "# Paths\n",
    "data_csv = \"ChestX-ray14\\Combined_Train_and_Test_Data.csv\"\n",
    "image_directory = 'C:/Users/zafer/OneDrive/Masaüstü/224NIH/dataset/images-224/images-224'\n",
    "\n",
    "# Load the dataset\n",
    "data = pd.read_csv(data_csv)\n",
    "\n",
    "# Filter out labels with fewer than 2 samples\n",
    "filtered_data = data.groupby('Finding Labels').filter(lambda x: len(x) > 5)\n",
    "\n",
    "# Verify filtered class distribution\n",
    "print(\"Filtered Class Distribution:\")\n",
    "print(filtered_data['Finding Labels'].value_counts())\n",
    "\n",
    "# Split the filtered dataset into train, validation, and test sets\n",
    "# Step 1: Train/Test Split\n",
    "train_data, temp_data = train_test_split(\n",
    "    filtered_data, \n",
    "    test_size=0.3, \n",
    "    stratify=filtered_data['Finding Labels'], \n",
    "    random_state=42\n",
    ")\n",
    "\n",
    "# Step 2: Validation/Test Split\n",
    "val_data, test_data = train_test_split(\n",
    "    temp_data, \n",
    "    test_size=0.5, \n",
    "    stratify=temp_data['Finding Labels'], \n",
    "    random_state=42\n",
    ")\n",
    "\n",
    "# Display dataset sizes\n",
    "print(f\"Train size: {len(train_data)}, Validation size: {len(val_data)}, Test size: {len(test_data)}\")\n"
   ]
  },
  {
   "cell_type": "code",
   "execution_count": 3,
   "id": "2da744d0",
   "metadata": {},
   "outputs": [],
   "source": [
    "class ChestXRayDataset(Dataset):\n",
    "    def __init__(self, dataframe, image_dir, transform=None):\n",
    "        self.dataframe = dataframe\n",
    "        self.image_dir = image_dir\n",
    "        self.transform = transform\n",
    "\n",
    "        # Validate the dataset\n",
    "        valid_samples = []\n",
    "        for idx in range(len(self.dataframe)):\n",
    "            row = self.dataframe.iloc[idx]\n",
    "            image_path = os.path.join(self.image_dir, row['Image Index'])\n",
    "            if os.path.exists(image_path):\n",
    "                valid_samples.append(row)\n",
    "            else:\n",
    "                print(f\"Missing image: {image_path}\")\n",
    "        self.dataframe = pd.DataFrame(valid_samples)\n",
    "\n",
    "    def __len__(self):\n",
    "        return len(self.dataframe)\n",
    "    \n",
    "    def __getitem__(self, idx):\n",
    "        row = self.dataframe.iloc[idx]\n",
    "        image_path = os.path.join(self.image_dir, row['Image Index'])\n",
    "        try:\n",
    "            image = Image.open(image_path).convert(\"L\")  # Convert to grayscale\n",
    "        except Exception as e:\n",
    "            print(f\"Error loading image {image_path}: {e}\")\n",
    "            return self.__getitem__((idx + 1) % len(self.dataframe))  # Skip problematic image\n",
    "\n",
    "        label = row['Finding Labels']\n",
    "        findings = [\"Infiltration\", \"Atelectasis\", \"Effusion\", \"Nodule\", \"Pneumothorax\", \"No Finding\"]\n",
    "        label_vector = [1 if finding in label else 0 for finding in findings]\n",
    "\n",
    "        if self.transform:\n",
    "            image = self.transform(image)\n",
    "\n",
    "        return image, torch.tensor(label_vector, dtype=torch.float)\n"
   ]
  },
  {
   "cell_type": "code",
   "execution_count": 4,
   "id": "b668813f",
   "metadata": {},
   "outputs": [],
   "source": [
    "from torchvision import transforms\n",
    "from torch.utils.data import DataLoader\n",
    "\n",
    "# Transforms for train and test\n",
    "train_transform = transforms.Compose([\n",
    "    \n",
    "    transforms.RandomHorizontalFlip(),\n",
    "    transforms.RandomRotation(10),\n",
    "    transforms.ColorJitter(contrast=0.3),\n",
    "    transforms.ToTensor(),\n",
    "    transforms.Normalize(mean=[0.5], std=[0.5])\n",
    "])\n",
    "\n",
    "test_transform = transforms.Compose([\n",
    "    \n",
    "    transforms.ToTensor(),\n",
    "    transforms.Normalize(mean=[0.5], std=[0.5])\n",
    "])\n",
    "\n",
    "# Datasets\n",
    "train_dataset = ChestXRayDataset(train_data, image_directory, transform=train_transform)\n",
    "val_dataset = ChestXRayDataset(val_data, image_directory, transform=test_transform)\n",
    "test_dataset = ChestXRayDataset(test_data, image_directory, transform=test_transform)\n",
    "\n",
    "# DataLoaders\n",
    "train_loader = DataLoader(train_dataset, batch_size=32, shuffle=True)\n",
    "val_loader = DataLoader(val_dataset, batch_size=32, shuffle=False)\n",
    "test_loader = DataLoader(test_dataset, batch_size=32, shuffle=False)\n"
   ]
  },
  {
   "cell_type": "code",
   "execution_count": 5,
   "id": "529e3951",
   "metadata": {},
   "outputs": [
    {
     "name": "stdout",
     "output_type": "stream",
     "text": [
      "Class Weights: [3.0178314639056656, 3.6631174725082913, 3.317420170723996, 4.774971558589306, 4.8388286834217205, 5.847311228754528]\n"
     ]
    }
   ],
   "source": [
    "import torch\n",
    "import numpy as np\n",
    "\n",
    "# List of findings\n",
    "findings = [\"Infiltration\", \"Atelectasis\", \"Effusion\", \"Nodule\", \"Pneumothorax\", \"No Finding\"]\n",
    "\n",
    "# Initialize counts for each finding\n",
    "class_counts = {finding: 0 for finding in findings}\n",
    "\n",
    "# Count occurrences of each finding in the training dataset\n",
    "for labels in train_data['Finding Labels']:\n",
    "    for finding in findings:\n",
    "        if finding in labels:\n",
    "            class_counts[finding] += 1\n",
    "\n",
    "# Calculate weights inversely proportional to class frequencies\n",
    "total_samples = len(train_data)\n",
    "class_weights = [total_samples / class_counts[finding] for finding in findings]\n",
    "device = torch.device(\"cuda\" if torch.cuda.is_available() else \"cpu\")\n",
    "\n",
    "# Convert to tensor for PyTorch\n",
    "class_weights_tensor = torch.tensor(class_weights).to(device)\n",
    "\n",
    "# Define the weighted BCEWithLogitsLoss\n",
    "criterion = nn.BCEWithLogitsLoss()\n",
    "\n",
    "# Print class weights for verification\n",
    "print(\"Class Weights:\", class_weights)\n"
   ]
  },
  {
   "cell_type": "code",
   "execution_count": 15,
   "id": "6bc939a6",
   "metadata": {},
   "outputs": [
    {
     "name": "stdout",
     "output_type": "stream",
     "text": [
      "(20986, 13)\n"
     ]
    }
   ],
   "source": [
    "print(train_data.shape)  # Should print (num_samples, 6)\n"
   ]
  },
  {
   "cell_type": "code",
   "execution_count": 18,
   "id": "dbe2a0b0",
   "metadata": {},
   "outputs": [
    {
     "name": "stdout",
     "output_type": "stream",
     "text": [
      "ResNet(\n",
      "  (conv1): Conv2d(1, 64, kernel_size=(7, 7), stride=(2, 2), padding=(3, 3), bias=False)\n",
      "  (bn1): BatchNorm2d(64, eps=1e-05, momentum=0.1, affine=True, track_running_stats=True)\n",
      "  (relu): ReLU(inplace=True)\n",
      "  (maxpool): MaxPool2d(kernel_size=3, stride=2, padding=1, dilation=1, ceil_mode=False)\n",
      "  (layer1): Sequential(\n",
      "    (0): Bottleneck(\n",
      "      (conv1): Conv2d(64, 64, kernel_size=(1, 1), stride=(1, 1), bias=False)\n",
      "      (bn1): BatchNorm2d(64, eps=1e-05, momentum=0.1, affine=True, track_running_stats=True)\n",
      "      (conv2): Conv2d(64, 64, kernel_size=(3, 3), stride=(1, 1), padding=(1, 1), bias=False)\n",
      "      (bn2): BatchNorm2d(64, eps=1e-05, momentum=0.1, affine=True, track_running_stats=True)\n",
      "      (conv3): Conv2d(64, 256, kernel_size=(1, 1), stride=(1, 1), bias=False)\n",
      "      (bn3): BatchNorm2d(256, eps=1e-05, momentum=0.1, affine=True, track_running_stats=True)\n",
      "      (relu): ReLU(inplace=True)\n",
      "      (downsample): Sequential(\n",
      "        (0): Conv2d(64, 256, kernel_size=(1, 1), stride=(1, 1), bias=False)\n",
      "        (1): BatchNorm2d(256, eps=1e-05, momentum=0.1, affine=True, track_running_stats=True)\n",
      "      )\n",
      "    )\n",
      "    (1): Bottleneck(\n",
      "      (conv1): Conv2d(256, 64, kernel_size=(1, 1), stride=(1, 1), bias=False)\n",
      "      (bn1): BatchNorm2d(64, eps=1e-05, momentum=0.1, affine=True, track_running_stats=True)\n",
      "      (conv2): Conv2d(64, 64, kernel_size=(3, 3), stride=(1, 1), padding=(1, 1), bias=False)\n",
      "      (bn2): BatchNorm2d(64, eps=1e-05, momentum=0.1, affine=True, track_running_stats=True)\n",
      "      (conv3): Conv2d(64, 256, kernel_size=(1, 1), stride=(1, 1), bias=False)\n",
      "      (bn3): BatchNorm2d(256, eps=1e-05, momentum=0.1, affine=True, track_running_stats=True)\n",
      "      (relu): ReLU(inplace=True)\n",
      "    )\n",
      "    (2): Bottleneck(\n",
      "      (conv1): Conv2d(256, 64, kernel_size=(1, 1), stride=(1, 1), bias=False)\n",
      "      (bn1): BatchNorm2d(64, eps=1e-05, momentum=0.1, affine=True, track_running_stats=True)\n",
      "      (conv2): Conv2d(64, 64, kernel_size=(3, 3), stride=(1, 1), padding=(1, 1), bias=False)\n",
      "      (bn2): BatchNorm2d(64, eps=1e-05, momentum=0.1, affine=True, track_running_stats=True)\n",
      "      (conv3): Conv2d(64, 256, kernel_size=(1, 1), stride=(1, 1), bias=False)\n",
      "      (bn3): BatchNorm2d(256, eps=1e-05, momentum=0.1, affine=True, track_running_stats=True)\n",
      "      (relu): ReLU(inplace=True)\n",
      "    )\n",
      "  )\n",
      "  (layer2): Sequential(\n",
      "    (0): Bottleneck(\n",
      "      (conv1): Conv2d(256, 128, kernel_size=(1, 1), stride=(1, 1), bias=False)\n",
      "      (bn1): BatchNorm2d(128, eps=1e-05, momentum=0.1, affine=True, track_running_stats=True)\n",
      "      (conv2): Conv2d(128, 128, kernel_size=(3, 3), stride=(2, 2), padding=(1, 1), bias=False)\n",
      "      (bn2): BatchNorm2d(128, eps=1e-05, momentum=0.1, affine=True, track_running_stats=True)\n",
      "      (conv3): Conv2d(128, 512, kernel_size=(1, 1), stride=(1, 1), bias=False)\n",
      "      (bn3): BatchNorm2d(512, eps=1e-05, momentum=0.1, affine=True, track_running_stats=True)\n",
      "      (relu): ReLU(inplace=True)\n",
      "      (downsample): Sequential(\n",
      "        (0): Conv2d(256, 512, kernel_size=(1, 1), stride=(2, 2), bias=False)\n",
      "        (1): BatchNorm2d(512, eps=1e-05, momentum=0.1, affine=True, track_running_stats=True)\n",
      "      )\n",
      "    )\n",
      "    (1): Bottleneck(\n",
      "      (conv1): Conv2d(512, 128, kernel_size=(1, 1), stride=(1, 1), bias=False)\n",
      "      (bn1): BatchNorm2d(128, eps=1e-05, momentum=0.1, affine=True, track_running_stats=True)\n",
      "      (conv2): Conv2d(128, 128, kernel_size=(3, 3), stride=(1, 1), padding=(1, 1), bias=False)\n",
      "      (bn2): BatchNorm2d(128, eps=1e-05, momentum=0.1, affine=True, track_running_stats=True)\n",
      "      (conv3): Conv2d(128, 512, kernel_size=(1, 1), stride=(1, 1), bias=False)\n",
      "      (bn3): BatchNorm2d(512, eps=1e-05, momentum=0.1, affine=True, track_running_stats=True)\n",
      "      (relu): ReLU(inplace=True)\n",
      "    )\n",
      "    (2): Bottleneck(\n",
      "      (conv1): Conv2d(512, 128, kernel_size=(1, 1), stride=(1, 1), bias=False)\n",
      "      (bn1): BatchNorm2d(128, eps=1e-05, momentum=0.1, affine=True, track_running_stats=True)\n",
      "      (conv2): Conv2d(128, 128, kernel_size=(3, 3), stride=(1, 1), padding=(1, 1), bias=False)\n",
      "      (bn2): BatchNorm2d(128, eps=1e-05, momentum=0.1, affine=True, track_running_stats=True)\n",
      "      (conv3): Conv2d(128, 512, kernel_size=(1, 1), stride=(1, 1), bias=False)\n",
      "      (bn3): BatchNorm2d(512, eps=1e-05, momentum=0.1, affine=True, track_running_stats=True)\n",
      "      (relu): ReLU(inplace=True)\n",
      "    )\n",
      "    (3): Bottleneck(\n",
      "      (conv1): Conv2d(512, 128, kernel_size=(1, 1), stride=(1, 1), bias=False)\n",
      "      (bn1): BatchNorm2d(128, eps=1e-05, momentum=0.1, affine=True, track_running_stats=True)\n",
      "      (conv2): Conv2d(128, 128, kernel_size=(3, 3), stride=(1, 1), padding=(1, 1), bias=False)\n",
      "      (bn2): BatchNorm2d(128, eps=1e-05, momentum=0.1, affine=True, track_running_stats=True)\n",
      "      (conv3): Conv2d(128, 512, kernel_size=(1, 1), stride=(1, 1), bias=False)\n",
      "      (bn3): BatchNorm2d(512, eps=1e-05, momentum=0.1, affine=True, track_running_stats=True)\n",
      "      (relu): ReLU(inplace=True)\n",
      "    )\n",
      "  )\n",
      "  (layer3): Sequential(\n",
      "    (0): Bottleneck(\n",
      "      (conv1): Conv2d(512, 256, kernel_size=(1, 1), stride=(1, 1), bias=False)\n",
      "      (bn1): BatchNorm2d(256, eps=1e-05, momentum=0.1, affine=True, track_running_stats=True)\n",
      "      (conv2): Conv2d(256, 256, kernel_size=(3, 3), stride=(2, 2), padding=(1, 1), bias=False)\n",
      "      (bn2): BatchNorm2d(256, eps=1e-05, momentum=0.1, affine=True, track_running_stats=True)\n",
      "      (conv3): Conv2d(256, 1024, kernel_size=(1, 1), stride=(1, 1), bias=False)\n",
      "      (bn3): BatchNorm2d(1024, eps=1e-05, momentum=0.1, affine=True, track_running_stats=True)\n",
      "      (relu): ReLU(inplace=True)\n",
      "      (downsample): Sequential(\n",
      "        (0): Conv2d(512, 1024, kernel_size=(1, 1), stride=(2, 2), bias=False)\n",
      "        (1): BatchNorm2d(1024, eps=1e-05, momentum=0.1, affine=True, track_running_stats=True)\n",
      "      )\n",
      "    )\n",
      "    (1): Bottleneck(\n",
      "      (conv1): Conv2d(1024, 256, kernel_size=(1, 1), stride=(1, 1), bias=False)\n",
      "      (bn1): BatchNorm2d(256, eps=1e-05, momentum=0.1, affine=True, track_running_stats=True)\n",
      "      (conv2): Conv2d(256, 256, kernel_size=(3, 3), stride=(1, 1), padding=(1, 1), bias=False)\n",
      "      (bn2): BatchNorm2d(256, eps=1e-05, momentum=0.1, affine=True, track_running_stats=True)\n",
      "      (conv3): Conv2d(256, 1024, kernel_size=(1, 1), stride=(1, 1), bias=False)\n",
      "      (bn3): BatchNorm2d(1024, eps=1e-05, momentum=0.1, affine=True, track_running_stats=True)\n",
      "      (relu): ReLU(inplace=True)\n",
      "    )\n",
      "    (2): Bottleneck(\n",
      "      (conv1): Conv2d(1024, 256, kernel_size=(1, 1), stride=(1, 1), bias=False)\n",
      "      (bn1): BatchNorm2d(256, eps=1e-05, momentum=0.1, affine=True, track_running_stats=True)\n",
      "      (conv2): Conv2d(256, 256, kernel_size=(3, 3), stride=(1, 1), padding=(1, 1), bias=False)\n",
      "      (bn2): BatchNorm2d(256, eps=1e-05, momentum=0.1, affine=True, track_running_stats=True)\n",
      "      (conv3): Conv2d(256, 1024, kernel_size=(1, 1), stride=(1, 1), bias=False)\n",
      "      (bn3): BatchNorm2d(1024, eps=1e-05, momentum=0.1, affine=True, track_running_stats=True)\n",
      "      (relu): ReLU(inplace=True)\n",
      "    )\n",
      "    (3): Bottleneck(\n",
      "      (conv1): Conv2d(1024, 256, kernel_size=(1, 1), stride=(1, 1), bias=False)\n",
      "      (bn1): BatchNorm2d(256, eps=1e-05, momentum=0.1, affine=True, track_running_stats=True)\n",
      "      (conv2): Conv2d(256, 256, kernel_size=(3, 3), stride=(1, 1), padding=(1, 1), bias=False)\n",
      "      (bn2): BatchNorm2d(256, eps=1e-05, momentum=0.1, affine=True, track_running_stats=True)\n",
      "      (conv3): Conv2d(256, 1024, kernel_size=(1, 1), stride=(1, 1), bias=False)\n",
      "      (bn3): BatchNorm2d(1024, eps=1e-05, momentum=0.1, affine=True, track_running_stats=True)\n",
      "      (relu): ReLU(inplace=True)\n",
      "    )\n",
      "    (4): Bottleneck(\n",
      "      (conv1): Conv2d(1024, 256, kernel_size=(1, 1), stride=(1, 1), bias=False)\n",
      "      (bn1): BatchNorm2d(256, eps=1e-05, momentum=0.1, affine=True, track_running_stats=True)\n",
      "      (conv2): Conv2d(256, 256, kernel_size=(3, 3), stride=(1, 1), padding=(1, 1), bias=False)\n",
      "      (bn2): BatchNorm2d(256, eps=1e-05, momentum=0.1, affine=True, track_running_stats=True)\n",
      "      (conv3): Conv2d(256, 1024, kernel_size=(1, 1), stride=(1, 1), bias=False)\n",
      "      (bn3): BatchNorm2d(1024, eps=1e-05, momentum=0.1, affine=True, track_running_stats=True)\n",
      "      (relu): ReLU(inplace=True)\n",
      "    )\n",
      "    (5): Bottleneck(\n",
      "      (conv1): Conv2d(1024, 256, kernel_size=(1, 1), stride=(1, 1), bias=False)\n",
      "      (bn1): BatchNorm2d(256, eps=1e-05, momentum=0.1, affine=True, track_running_stats=True)\n",
      "      (conv2): Conv2d(256, 256, kernel_size=(3, 3), stride=(1, 1), padding=(1, 1), bias=False)\n",
      "      (bn2): BatchNorm2d(256, eps=1e-05, momentum=0.1, affine=True, track_running_stats=True)\n",
      "      (conv3): Conv2d(256, 1024, kernel_size=(1, 1), stride=(1, 1), bias=False)\n",
      "      (bn3): BatchNorm2d(1024, eps=1e-05, momentum=0.1, affine=True, track_running_stats=True)\n",
      "      (relu): ReLU(inplace=True)\n",
      "    )\n",
      "  )\n",
      "  (layer4): Sequential(\n",
      "    (0): Bottleneck(\n",
      "      (conv1): Conv2d(1024, 512, kernel_size=(1, 1), stride=(1, 1), bias=False)\n",
      "      (bn1): BatchNorm2d(512, eps=1e-05, momentum=0.1, affine=True, track_running_stats=True)\n",
      "      (conv2): Conv2d(512, 512, kernel_size=(3, 3), stride=(2, 2), padding=(1, 1), bias=False)\n",
      "      (bn2): BatchNorm2d(512, eps=1e-05, momentum=0.1, affine=True, track_running_stats=True)\n",
      "      (conv3): Conv2d(512, 2048, kernel_size=(1, 1), stride=(1, 1), bias=False)\n",
      "      (bn3): BatchNorm2d(2048, eps=1e-05, momentum=0.1, affine=True, track_running_stats=True)\n",
      "      (relu): ReLU(inplace=True)\n",
      "      (downsample): Sequential(\n",
      "        (0): Conv2d(1024, 2048, kernel_size=(1, 1), stride=(2, 2), bias=False)\n",
      "        (1): BatchNorm2d(2048, eps=1e-05, momentum=0.1, affine=True, track_running_stats=True)\n",
      "      )\n",
      "    )\n",
      "    (1): Bottleneck(\n",
      "      (conv1): Conv2d(2048, 512, kernel_size=(1, 1), stride=(1, 1), bias=False)\n",
      "      (bn1): BatchNorm2d(512, eps=1e-05, momentum=0.1, affine=True, track_running_stats=True)\n",
      "      (conv2): Conv2d(512, 512, kernel_size=(3, 3), stride=(1, 1), padding=(1, 1), bias=False)\n",
      "      (bn2): BatchNorm2d(512, eps=1e-05, momentum=0.1, affine=True, track_running_stats=True)\n",
      "      (conv3): Conv2d(512, 2048, kernel_size=(1, 1), stride=(1, 1), bias=False)\n",
      "      (bn3): BatchNorm2d(2048, eps=1e-05, momentum=0.1, affine=True, track_running_stats=True)\n",
      "      (relu): ReLU(inplace=True)\n",
      "    )\n",
      "    (2): Bottleneck(\n",
      "      (conv1): Conv2d(2048, 512, kernel_size=(1, 1), stride=(1, 1), bias=False)\n",
      "      (bn1): BatchNorm2d(512, eps=1e-05, momentum=0.1, affine=True, track_running_stats=True)\n",
      "      (conv2): Conv2d(512, 512, kernel_size=(3, 3), stride=(1, 1), padding=(1, 1), bias=False)\n",
      "      (bn2): BatchNorm2d(512, eps=1e-05, momentum=0.1, affine=True, track_running_stats=True)\n",
      "      (conv3): Conv2d(512, 2048, kernel_size=(1, 1), stride=(1, 1), bias=False)\n",
      "      (bn3): BatchNorm2d(2048, eps=1e-05, momentum=0.1, affine=True, track_running_stats=True)\n",
      "      (relu): ReLU(inplace=True)\n",
      "    )\n",
      "  )\n",
      "  (avgpool): AdaptiveAvgPool2d(output_size=(1, 1))\n",
      "  (fc): Sequential(\n",
      "    (0): Linear(in_features=2048, out_features=128, bias=True)\n",
      "    (1): ReLU()\n",
      "    (2): Dropout(p=0.1, inplace=False)\n",
      "    (3): Linear(in_features=128, out_features=6, bias=True)\n",
      "  )\n",
      ")\n"
     ]
    }
   ],
   "source": [
    "from torchvision import models\n",
    "import torch.nn as nn\n",
    "import torch\n",
    "\n",
    "# Load pretrained ResNet50 and adjust for grayscale input\n",
    "model = models.resnet50(pretrained=True)\n",
    "\n",
    "# Modify the first convolutional layer for grayscale input\n",
    "model.conv1 = nn.Conv2d(1, 64, kernel_size=7, stride=2, padding=3, bias=False)\n",
    "\n",
    "# Customize classifier for 6-class multi-label output\n",
    "model.fc = nn.Sequential(\n",
    "    nn.Linear(model.fc.in_features, 128),\n",
    "    nn.ReLU(),\n",
    "    nn.Dropout(0.1),\n",
    "    nn.Linear(128, 6)  # No Sigmoid here\n",
    ")\n",
    "\n",
    "# Assuming train_labels is a torch Tensor of shape [num_samples, num_classes]\n",
    "\n",
    "\n",
    "criterion = nn.BCEWithLogitsLoss()\n",
    "optimizer = torch.optim.Adam(model.parameters(), lr=1e-4, weight_decay=1e-5)\n",
    "scheduler = torch.optim.lr_scheduler.ReduceLROnPlateau(optimizer, mode='min', patience=3, factor=0.1)\n",
    "\n",
    "# Fine-tune the last few layers\n",
    "for param in model.layer4.parameters():  # Unfreeze the last ResNet block (layer4)\n",
    "    param.requires_grad = True\n",
    "\n",
    "# Freeze earlier layers\n",
    "for param in list(model.parameters())[:-len(list(model.layer4.parameters()))]:\n",
    "    param.requires_grad = False\n",
    "\n",
    "# Move model to GPU/CPU\n",
    "device = torch.device(\"cuda\" if torch.cuda.is_available() else \"cpu\")\n",
    "model = model.to(device)\n",
    "\n",
    "print(model)  # Print the model architecture for verification\n"
   ]
  },
  {
   "cell_type": "code",
   "execution_count": 19,
   "id": "8315cc7a",
   "metadata": {},
   "outputs": [
    {
     "name": "stdout",
     "output_type": "stream",
     "text": [
      "layer4.0.bn2.weight: None\n",
      "layer4.0.bn2.bias: None\n",
      "layer4.0.conv3.weight: None\n",
      "layer4.0.bn3.weight: None\n",
      "layer4.0.bn3.bias: None\n",
      "layer4.0.downsample.0.weight: None\n",
      "layer4.0.downsample.1.weight: None\n",
      "layer4.0.downsample.1.bias: None\n",
      "layer4.1.conv1.weight: None\n",
      "layer4.1.bn1.weight: None\n",
      "layer4.1.bn1.bias: None\n",
      "layer4.1.conv2.weight: None\n",
      "layer4.1.bn2.weight: None\n",
      "layer4.1.bn2.bias: None\n",
      "layer4.1.conv3.weight: None\n",
      "layer4.1.bn3.weight: None\n",
      "layer4.1.bn3.bias: None\n",
      "layer4.2.conv1.weight: None\n",
      "layer4.2.bn1.weight: None\n",
      "layer4.2.bn1.bias: None\n",
      "layer4.2.conv2.weight: None\n",
      "layer4.2.bn2.weight: None\n",
      "layer4.2.bn2.bias: None\n",
      "layer4.2.conv3.weight: None\n",
      "layer4.2.bn3.weight: None\n",
      "layer4.2.bn3.bias: None\n",
      "fc.0.weight: None\n",
      "fc.0.bias: None\n",
      "fc.3.weight: None\n",
      "fc.3.bias: None\n"
     ]
    }
   ],
   "source": [
    "for name, param in model.named_parameters():\n",
    "    if param.requires_grad:\n",
    "        print(f\"{name}: {param.grad}\")\n"
   ]
  },
  {
   "cell_type": "code",
   "execution_count": 20,
   "id": "58ac1998",
   "metadata": {},
   "outputs": [
    {
     "name": "stdout",
     "output_type": "stream",
     "text": [
      "Class distribution: tensor([ 8., 10., 11., 10., 11.,  4.], device='cuda:0')\n"
     ]
    }
   ],
   "source": [
    "print(f\"Class distribution: {torch.sum(labels, dim=0)}\")\n"
   ]
  },
  {
   "cell_type": "code",
   "execution_count": 21,
   "id": "baf1f607",
   "metadata": {},
   "outputs": [
    {
     "name": "stderr",
     "output_type": "stream",
     "text": [
      "Epoch 1/50: 100%|██████████| 656/656 [01:40<00:00,  6.50it/s, Training Loss=0.512] \n"
     ]
    },
    {
     "name": "stdout",
     "output_type": "stream",
     "text": [
      "Epoch 1/50, Loss: 0.5127\n",
      "Epoch 1/50 Complete\n",
      "Validation loss decreased (inf --> 0.498467). Saving model...\n"
     ]
    },
    {
     "name": "stderr",
     "output_type": "stream",
     "text": [
      "Epoch 2/50: 100%|██████████| 656/656 [01:36<00:00,  6.83it/s, Training Loss=0.493] \n"
     ]
    },
    {
     "name": "stdout",
     "output_type": "stream",
     "text": [
      "Epoch 2/50, Loss: 0.4942\n",
      "Epoch 2/50 Complete\n",
      "Validation loss decreased (0.498467 --> 0.486564). Saving model...\n"
     ]
    },
    {
     "name": "stderr",
     "output_type": "stream",
     "text": [
      "Epoch 3/50: 100%|██████████| 656/656 [01:36<00:00,  6.82it/s, Training Loss=0.486] \n"
     ]
    },
    {
     "name": "stdout",
     "output_type": "stream",
     "text": [
      "Epoch 3/50, Loss: 0.4863\n",
      "Epoch 3/50 Complete\n",
      "Validation loss decreased (0.486564 --> 0.481715). Saving model...\n"
     ]
    },
    {
     "name": "stderr",
     "output_type": "stream",
     "text": [
      "Epoch 4/50: 100%|██████████| 656/656 [01:35<00:00,  6.85it/s, Training Loss=0.479] \n"
     ]
    },
    {
     "name": "stdout",
     "output_type": "stream",
     "text": [
      "Epoch 4/50, Loss: 0.4801\n",
      "Epoch 4/50 Complete\n",
      "Validation loss decreased (0.481715 --> 0.479833). Saving model...\n"
     ]
    },
    {
     "name": "stderr",
     "output_type": "stream",
     "text": [
      "Epoch 5/50: 100%|██████████| 656/656 [01:36<00:00,  6.79it/s, Training Loss=0.473] \n"
     ]
    },
    {
     "name": "stdout",
     "output_type": "stream",
     "text": [
      "Epoch 5/50, Loss: 0.4739\n",
      "Epoch 5/50 Complete\n",
      "Validation loss decreased (0.479833 --> 0.479547). Saving model...\n"
     ]
    },
    {
     "name": "stderr",
     "output_type": "stream",
     "text": [
      "Epoch 6/50: 100%|██████████| 656/656 [01:36<00:00,  6.79it/s, Training Loss=0.468] \n"
     ]
    },
    {
     "name": "stdout",
     "output_type": "stream",
     "text": [
      "Epoch 6/50, Loss: 0.4691\n",
      "Epoch 6/50 Complete\n",
      "Validation loss decreased (0.479547 --> 0.475938). Saving model...\n"
     ]
    },
    {
     "name": "stderr",
     "output_type": "stream",
     "text": [
      "Epoch 7/50: 100%|██████████| 656/656 [01:39<00:00,  6.61it/s, Training Loss=0.463] \n"
     ]
    },
    {
     "name": "stdout",
     "output_type": "stream",
     "text": [
      "Epoch 7/50, Loss: 0.4641\n",
      "Epoch 7/50 Complete\n",
      "Validation loss decreased (0.475938 --> 0.471608). Saving model...\n"
     ]
    },
    {
     "name": "stderr",
     "output_type": "stream",
     "text": [
      "Epoch 8/50: 100%|██████████| 656/656 [01:37<00:00,  6.73it/s, Training Loss=0.457] \n"
     ]
    },
    {
     "name": "stdout",
     "output_type": "stream",
     "text": [
      "Epoch 8/50, Loss: 0.4582\n",
      "Epoch 8/50 Complete\n",
      "Validation loss decreased (0.471608 --> 0.469891). Saving model...\n"
     ]
    },
    {
     "name": "stderr",
     "output_type": "stream",
     "text": [
      "Epoch 9/50: 100%|██████████| 656/656 [01:37<00:00,  6.73it/s, Training Loss=0.452] \n"
     ]
    },
    {
     "name": "stdout",
     "output_type": "stream",
     "text": [
      "Epoch 9/50, Loss: 0.4523\n",
      "Epoch 9/50 Complete\n",
      "Validation loss decreased (0.469891 --> 0.465676). Saving model...\n"
     ]
    },
    {
     "name": "stderr",
     "output_type": "stream",
     "text": [
      "Epoch 10/50: 100%|██████████| 656/656 [01:36<00:00,  6.77it/s, Training Loss=0.446] \n"
     ]
    },
    {
     "name": "stdout",
     "output_type": "stream",
     "text": [
      "Epoch 10/50, Loss: 0.4465\n",
      "Epoch 10/50 Complete\n",
      "Validation loss decreased (0.465676 --> 0.465199). Saving model...\n"
     ]
    },
    {
     "name": "stderr",
     "output_type": "stream",
     "text": [
      "Epoch 11/50: 100%|██████████| 656/656 [01:35<00:00,  6.87it/s, Training Loss=0.441] \n"
     ]
    },
    {
     "name": "stdout",
     "output_type": "stream",
     "text": [
      "Epoch 11/50, Loss: 0.4414\n",
      "Epoch 11/50 Complete\n",
      "EarlyStopping counter: 1 out of 5\n"
     ]
    },
    {
     "name": "stderr",
     "output_type": "stream",
     "text": [
      "Epoch 12/50: 100%|██████████| 656/656 [01:35<00:00,  6.86it/s, Training Loss=0.434] \n"
     ]
    },
    {
     "name": "stdout",
     "output_type": "stream",
     "text": [
      "Epoch 12/50, Loss: 0.4347\n",
      "Epoch 12/50 Complete\n",
      "Validation loss decreased (0.465199 --> 0.461301). Saving model...\n"
     ]
    },
    {
     "name": "stderr",
     "output_type": "stream",
     "text": [
      "Epoch 13/50: 100%|██████████| 656/656 [01:38<00:00,  6.65it/s, Training Loss=0.429] \n"
     ]
    },
    {
     "name": "stdout",
     "output_type": "stream",
     "text": [
      "Epoch 13/50, Loss: 0.4294\n",
      "Epoch 13/50 Complete\n",
      "EarlyStopping counter: 1 out of 5\n"
     ]
    },
    {
     "name": "stderr",
     "output_type": "stream",
     "text": [
      "Epoch 14/50: 100%|██████████| 656/656 [01:36<00:00,  6.81it/s, Training Loss=0.422] \n"
     ]
    },
    {
     "name": "stdout",
     "output_type": "stream",
     "text": [
      "Epoch 14/50, Loss: 0.4227\n",
      "Epoch 14/50 Complete\n",
      "Validation loss decreased (0.461301 --> 0.459313). Saving model...\n"
     ]
    },
    {
     "name": "stderr",
     "output_type": "stream",
     "text": [
      "Epoch 15/50: 100%|██████████| 656/656 [01:35<00:00,  6.88it/s, Training Loss=0.417] \n"
     ]
    },
    {
     "name": "stdout",
     "output_type": "stream",
     "text": [
      "Epoch 15/50, Loss: 0.4173\n",
      "Epoch 15/50 Complete\n",
      "EarlyStopping counter: 1 out of 5\n"
     ]
    },
    {
     "name": "stderr",
     "output_type": "stream",
     "text": [
      "Epoch 16/50: 100%|██████████| 656/656 [01:36<00:00,  6.81it/s, Training Loss=0.409] \n"
     ]
    },
    {
     "name": "stdout",
     "output_type": "stream",
     "text": [
      "Epoch 16/50, Loss: 0.4093\n",
      "Epoch 16/50 Complete\n",
      "EarlyStopping counter: 2 out of 5\n"
     ]
    },
    {
     "name": "stderr",
     "output_type": "stream",
     "text": [
      "Epoch 17/50: 100%|██████████| 656/656 [01:35<00:00,  6.87it/s, Training Loss=0.404] \n"
     ]
    },
    {
     "name": "stdout",
     "output_type": "stream",
     "text": [
      "Epoch 17/50, Loss: 0.4048\n",
      "Epoch 17/50 Complete\n",
      "EarlyStopping counter: 3 out of 5\n"
     ]
    },
    {
     "name": "stderr",
     "output_type": "stream",
     "text": [
      "Epoch 18/50: 100%|██████████| 656/656 [01:35<00:00,  6.85it/s, Training Loss=0.397] \n"
     ]
    },
    {
     "name": "stdout",
     "output_type": "stream",
     "text": [
      "Epoch 18/50, Loss: 0.3971\n",
      "Epoch 18/50 Complete\n",
      "EarlyStopping counter: 4 out of 5\n"
     ]
    },
    {
     "name": "stderr",
     "output_type": "stream",
     "text": [
      "Epoch 19/50: 100%|██████████| 656/656 [01:36<00:00,  6.78it/s, Training Loss=0.39]  \n"
     ]
    },
    {
     "name": "stdout",
     "output_type": "stream",
     "text": [
      "Epoch 19/50, Loss: 0.3907\n",
      "Epoch 19/50 Complete\n",
      "EarlyStopping counter: 5 out of 5\n",
      "Early stopping triggered.\n",
      "Resuming from epoch 13\n",
      "Validation Losses: [0.49846695691135756, 0.48656376984947963, 0.48171509897455256, 0.4798325169171002, 0.4795469470480655, 0.47593835820543007, 0.47160759927533197, 0.4698908153577899, 0.465675765529592, 0.4651989733919184, 0.4680805301412623, 0.4613011248990999, 0.4685375071163719, 0.45931276467675014, 0.46146004652300626, 0.4634238521680764, 0.46323480885079565, 0.4665476958802406, 0.4636821945508321]\n"
     ]
    },
    {
     "name": "stderr",
     "output_type": "stream",
     "text": [
      "C:\\Users\\zafer\\AppData\\Local\\Temp\\ipykernel_33600\\968969881.py:103: FutureWarning: You are using `torch.load` with `weights_only=False` (the current default value), which uses the default pickle module implicitly. It is possible to construct malicious pickle data which will execute arbitrary code during unpickling (See https://github.com/pytorch/pytorch/blob/main/SECURITY.md#untrusted-models for more details). In a future release, the default value for `weights_only` will be flipped to `True`. This limits the functions that could be executed during unpickling. Arbitrary objects will no longer be allowed to be loaded via this mode unless they are explicitly allowlisted by the user via `torch.serialization.add_safe_globals`. We recommend you start setting `weights_only=True` for any use case where you don't have full control of the loaded file. Please open an issue on GitHub for any issues related to this experimental feature.\n",
      "  checkpoint = torch.load('best_model.pth.tar')\n"
     ]
    }
   ],
   "source": [
    "from tqdm import tqdm  # For progress bar\n",
    "import numpy as np\n",
    "import torch\n",
    "\n",
    "# Define EarlyStopping Class\n",
    "class EarlyStopping:\n",
    "    def __init__(self, patience=5, verbose=False, delta=0, path='best_model.pth.tar'):\n",
    "        \"\"\"\n",
    "        Args:\n",
    "            patience (int): How long to wait after last time validation loss improved.\n",
    "            verbose (bool): If True, prints a message for each validation loss improvement.\n",
    "            delta (float): Minimum change in the monitored quantity to qualify as an improvement.\n",
    "            path (str): Path to save the model checkpoint.\n",
    "        \"\"\"\n",
    "        self.patience = patience\n",
    "        self.verbose = verbose\n",
    "        self.delta = delta\n",
    "        self.path = path\n",
    "        self.counter = 0\n",
    "        self.best_score = None\n",
    "        self.early_stop = False\n",
    "        self.val_loss_min = np.Inf\n",
    "\n",
    "    def __call__(self, val_loss, model, optimizer, epoch):\n",
    "        score = -val_loss\n",
    "\n",
    "        if self.best_score is None:\n",
    "            self.best_score = score\n",
    "            self.save_checkpoint(val_loss, model, optimizer, epoch)\n",
    "        elif score < self.best_score + self.delta:\n",
    "            self.counter += 1\n",
    "            if self.verbose:\n",
    "                print(f\"EarlyStopping counter: {self.counter} out of {self.patience}\")\n",
    "            if self.counter >= self.patience:\n",
    "                self.early_stop = True\n",
    "        else:\n",
    "            self.best_score = score\n",
    "            self.save_checkpoint(val_loss, model, optimizer, epoch)\n",
    "            self.counter = 0\n",
    "\n",
    "    def save_checkpoint(self, val_loss, model, optimizer, epoch):\n",
    "        \"\"\"Saves model when validation loss decreases.\"\"\"\n",
    "        if self.verbose:\n",
    "            print(f\"Validation loss decreased ({self.val_loss_min:.6f} --> {val_loss:.6f}). Saving model...\")\n",
    "        torch.save({\n",
    "            'epoch': epoch,\n",
    "            'model_state_dict': model.state_dict(),\n",
    "            'optimizer_state_dict': optimizer.state_dict(),\n",
    "            'val_loss': val_loss,\n",
    "        }, self.path)\n",
    "        self.val_loss_min = val_loss\n",
    "\n",
    "\n",
    "# Initialize EarlyStopping\n",
    "early_stopping = EarlyStopping(patience=5, verbose=True, path='best_model.pth.tar')\n",
    "\n",
    "# List to store validation losses\n",
    "val_losses = []\n",
    "\n",
    "# Training Loop with Early Stopping and Progress Bar\n",
    "epochs = 50  # Set a higher number; early stopping will terminate earlier if needed\n",
    "for epoch in range(epochs):\n",
    "    model.train()\n",
    "    running_loss = 0.0\n",
    "\n",
    "    # Training phase with progress bar\n",
    "    progress_bar = tqdm(train_loader, desc=f\"Epoch {epoch + 1}/{epochs}\", leave=True)\n",
    "    for images, labels in progress_bar:\n",
    "        images, labels = images.to(device), labels.to(device)\n",
    "\n",
    "        optimizer.zero_grad()\n",
    "        outputs = model(images)\n",
    "        loss = criterion(outputs, labels)\n",
    "        loss.backward()\n",
    "        optimizer.step()\n",
    "\n",
    "        running_loss += loss.item()\n",
    "        progress_bar.set_postfix({\"Training Loss\": running_loss / (len(progress_bar) + 1)})\n",
    "\n",
    "    print(f\"Epoch {epoch+1}/{epochs}, Loss: {running_loss/len(train_loader):.4f}\")\n",
    "\n",
    "    # Validation phase\n",
    "    model.eval()\n",
    "    val_loss = 0.0\n",
    "    with torch.no_grad():\n",
    "        for images, labels in val_loader:\n",
    "            images, labels = images.to(device), labels.to(device)\n",
    "            outputs = model(images)\n",
    "            val_loss += criterion(outputs, labels).item()\n",
    "\n",
    "    val_loss /= len(val_loader)\n",
    "    progress_bar.set_postfix({\"Training Loss\": running_loss / len(train_loader), \"Validation Loss\": val_loss})\n",
    "    print(f\"Epoch {epoch + 1}/{epochs} Complete\")\n",
    "    val_losses.append(val_loss)\n",
    "\n",
    "    # Early Stopping Check\n",
    "    early_stopping(val_loss, model, optimizer, epoch)\n",
    "    if early_stopping.early_stop:\n",
    "        print(\"Early stopping triggered.\")\n",
    "        break\n",
    "\n",
    "# Load the best model checkpoint\n",
    "checkpoint = torch.load('best_model.pth.tar')\n",
    "model.load_state_dict(checkpoint['model_state_dict'])\n",
    "optimizer.load_state_dict(checkpoint['optimizer_state_dict'])\n",
    "print(f\"Resuming from epoch {checkpoint['epoch']}\")\n",
    "\n",
    "# Print or plot validation losses after training\n",
    "print(\"Validation Losses:\", val_losses)\n"
   ]
  },
  {
   "cell_type": "code",
   "execution_count": 22,
   "id": "a557455d",
   "metadata": {},
   "outputs": [
    {
     "data": {
      "image/png": "[encoded data removed]",
      "text/plain": [
       "<Figure size 640x480 with 1 Axes>"
      ]
     },
     "metadata": {},
     "output_type": "display_data"
    }
   ],
   "source": [
    "import matplotlib.pyplot as plt\n",
    "\n",
    "plt.plot(val_losses, label='Validation Loss')\n",
    "plt.xlabel('Epoch')\n",
    "plt.ylabel('Loss')\n",
    "plt.title('Validation Loss Over Epochs')\n",
    "plt.legend()\n",
    "plt.show()\n"
   ]
  },
  {
   "cell_type": "code",
   "execution_count": 29,
   "id": "40c6b824",
   "metadata": {},
   "outputs": [],
   "source": [
    "import torch\n",
    "\n",
    "model.eval()\n",
    "y_pred = []\n",
    "y_true = []\n",
    "\n",
    "with torch.no_grad():\n",
    "    for images, labels in val_loader:  # Replace val_loader with your validation DataLoader\n",
    "        images = images.to(device)\n",
    "        outputs = model(images)  # Raw logits\n",
    "        probabilities = torch.sigmoid(outputs).cpu().numpy()  # Convert logits to probabilities\n",
    "        y_pred.extend(probabilities)\n",
    "        y_true.extend(labels.cpu().numpy())\n",
    "\n",
    "# Convert lists to numpy arrays\n",
    "y_pred = np.array(y_pred)\n",
    "y_true = np.array(y_true)\n"
   ]
  },
  {
   "cell_type": "code",
   "execution_count": 30,
   "id": "d496f7f8",
   "metadata": {},
   "outputs": [
    {
     "name": "stdout",
     "output_type": "stream",
     "text": [
      "AUROC for Infiltration: 0.6985\n",
      "AUROC for Atelectasis: 0.7515\n",
      "AUROC for Effusion: 0.8491\n",
      "AUROC for Nodule: 0.7195\n",
      "AUROC for Pneumothorax: 0.8339\n",
      "AUROC for No Finding: 0.7894\n"
     ]
    }
   ],
   "source": [
    "from sklearn.metrics import roc_auc_score\n",
    "\n",
    "class_names = [\"Infiltration\", \"Atelectasis\", \"Effusion\", \"Nodule\", \"Pneumothorax\", \"No Finding\"]\n",
    "\n",
    "# Assuming y_true (ground truth) and y_pred (predictions) are numpy arrays\n",
    "# Shape: [num_samples, num_classes]\n",
    "aurocs = {}\n",
    "for i, class_name in enumerate(class_names):  # Replace class_names with your actual class names\n",
    "    try:\n",
    "        auroc = roc_auc_score(y_true[:, i], y_pred[:, i])\n",
    "        aurocs[class_name] = auroc\n",
    "    except ValueError:\n",
    "        # Handle case where a class has only one label value (all 0s or 1s)\n",
    "        aurocs[class_name] = None\n",
    "        print(f\"AUROC for {class_name} could not be calculated due to single-class labels.\")\n",
    "\n",
    "# Print AUROC for each class\n",
    "for class_name, auroc in aurocs.items():\n",
    "    if auroc is not None:\n",
    "        print(f\"AUROC for {class_name}: {auroc:.4f}\")\n",
    "    else:\n",
    "        print(f\"AUROC for {class_name}: Not Applicable\")\n"
   ]
  },
  {
   "cell_type": "code",
   "execution_count": 31,
   "id": "85daa02f",
   "metadata": {},
   "outputs": [
    {
     "name": "stdout",
     "output_type": "stream",
     "text": [
      "Average AUROC: 0.7736\n"
     ]
    }
   ],
   "source": [
    "valid_aurocs = [auroc for auroc in aurocs.values() if auroc is not None]\n",
    "average_auroc = sum(valid_aurocs) / len(valid_aurocs) if valid_aurocs else 0\n",
    "print(f\"Average AUROC: {average_auroc:.4f}\")\n"
   ]
  },
  {
   "cell_type": "code",
   "execution_count": null,
   "id": "39d9a4c6",
   "metadata": {},
   "outputs": [
    {
     "name": "stdout",
     "output_type": "stream",
     "text": [
      "Model saved as 'chest_xray_model.pth.tar'\n"
     ]
    }
   ],
   "source": [
    "# In[9]: Save Model\n",
    "torch.save(model.state_dict(), \"chest_xray_model.pth.tar\")\n",
    "print(\"Model saved as 'chest_xray_model.pth.tar'\")"
   ]
  }
 ],
 "metadata": {
  "kernelspec": {
   "display_name": "Python 3",
   "language": "python",
   "name": "python3"
  },
  "language_info": {
   "codemirror_mode": {
    "name": "ipython",
    "version": 3
   },
   "file_extension": ".py",
   "mimetype": "text/x-python",
   "name": "python",
   "nbconvert_exporter": "python",
   "pygments_lexer": "ipython3",
   "version": "3.11.9"
  }
 },
 "nbformat": 4,
 "nbformat_minor": 5
}
